{
 "cells": [
  {
   "cell_type": "markdown",
   "metadata": {},
   "source": [
    "Potential Other Questions: Can we determine position type based on weight or other statistics?"
   ]
  },
  {
   "cell_type": "code",
   "execution_count": 2,
   "metadata": {
    "collapsed": true
   },
   "outputs": [],
   "source": [
    "%matplotlib inline\n",
    "import matplotlib.pyplot as plt\n",
    "import urllib2\n",
    "import urllib\n",
    "import requests\n",
    "from bs4 import BeautifulSoup\n",
    "import pandas as pd\n",
    "import numpy as np\n",
    "import json\n",
    "import re\n",
    "import seaborn as sns"
   ]
  },
  {
   "cell_type": "code",
   "execution_count": 19,
   "metadata": {},
   "outputs": [
    {
     "name": "stdout",
     "output_type": "stream",
     "text": [
      "<class 'pandas.core.frame.DataFrame'>\n",
      "Int64Index: 14720 entries, 0 to 17171\n",
      "Data columns (total 12 columns):\n",
      "Birth Place        14720 non-null object\n",
      "Birthday           14720 non-null object\n",
      "College            14720 non-null object\n",
      "Current Status     14720 non-null object\n",
      "Current Team       14720 non-null object\n",
      "Experience         14720 non-null int64\n",
      "Height (inches)    14720 non-null float64\n",
      "Name               14720 non-null object\n",
      "Player Id          14720 non-null object\n",
      "Position           14720 non-null int64\n",
      "Weight (lbs)       14720 non-null float64\n",
      "Years Played       14720 non-null object\n",
      "dtypes: float64(2), int64(2), object(8)\n",
      "memory usage: 1.5+ MB\n",
      "None \n",
      "\n",
      "\n"
     ]
    }
   ],
   "source": [
    "#All active players don't have \"years played\" information -> set values to \"Active\"\n",
    "#All retired players don't have \"current team\" information -> set values to \"Retired\"\n",
    "#All retired players don't have \"Position\" information -> set values to \"TBD\"\n",
    "    #These positions will have to be updated based on crossreferencing with the other .csv statistics files\n",
    "Basic_Stats = pd.read_csv(\"./Basic_Stats.csv\");\n",
    "Basic_Stats = pd.DataFrame(data = Basic_Stats)\n",
    "Basic_Stats['Current Team'].replace(np.nan,'Retired', inplace=True);\n",
    "Basic_Stats['Years Played'].replace(np.nan,'Active', inplace=True);\n",
    "Basic_Stats['Position'].replace(np.nan,0, inplace=True);\n",
    "\n",
    "#Assign positions to numerical values\n",
    "Basic_Stats['Position'].replace(['QB'],1, inplace=True);\n",
    "Basic_Stats['Position'].replace(['RB'],2, inplace=True);\n",
    "Basic_Stats['Position'].replace(['FB'],3, inplace=True);\n",
    "Basic_Stats['Position'].replace(['WR'],4, inplace=True);\n",
    "Basic_Stats['Position'].replace(['TE'],5, inplace=True);\n",
    "Basic_Stats['Position'].replace(['OL','OG','G','C','T','OT'],6, inplace=True);\n",
    "Basic_Stats['Position'].replace(['DE','DT','NT','DL'],7, inplace=True);\n",
    "Basic_Stats['Position'].replace(['OLB', 'ILB','LB','MLB'],8, inplace=True);\n",
    "Basic_Stats['Position'].replace(['SS','FS','SAF','LS'],9, inplace=True);\n",
    "Basic_Stats['Position'].replace(['CB','DB'],10, inplace=True);\n",
    "Basic_Stats['Position'].replace(['K','P'],11, inplace=True);\n",
    "\n",
    "\n",
    "#Delete sparse data \n",
    "Basic_Stats = Basic_Stats.drop(['Number'], axis=1)\n",
    "Basic_Stats = Basic_Stats.drop(['High School'], axis=1)\n",
    "Basic_Stats = Basic_Stats.drop(['High School Location'], axis=1)\n",
    "Basic_Stats = Basic_Stats.drop(['Age'], axis=1)\n",
    "Basic_Stats = Basic_Stats.dropna(axis = 0, how=\"any\")\n",
    "\n",
    "#Turn experience column into int64 data type by removing \"Seasons\"\n",
    "Basic_Stats['Experience'] = pd.Series(Basic_Stats['Experience']).str.replace(' Seasons', '')\n",
    "Basic_Stats['Experience'] = pd.to_numeric(Basic_Stats['Experience'])\n",
    "print Basic_Stats.info(), \"\\n\\n\""
   ]
  },
  {
   "cell_type": "code",
   "execution_count": 20,
   "metadata": {},
   "outputs": [
    {
     "name": "stdout",
     "output_type": "stream",
     "text": [
      "Correlations:\n",
      "                   Experience  Height (inches)  Position  Weight (lbs)\n",
      "Experience         1.000000         0.131297  0.006212      0.137117\n",
      "Height (inches)    0.131297         1.000000  0.073208      0.708869\n",
      "Position           0.006212         0.073208  1.000000      0.147453\n",
      "Weight (lbs)       0.137117         0.708869  0.147453      1.000000 \n",
      "\n",
      "\n",
      "<class 'pandas.core.frame.DataFrame'>\n",
      "Int64Index: 14720 entries, 0 to 17171\n",
      "Data columns (total 12 columns):\n",
      "Birth Place        14720 non-null object\n",
      "Birthday           14720 non-null object\n",
      "College            14720 non-null object\n",
      "Current Status     14720 non-null object\n",
      "Current Team       14720 non-null object\n",
      "Experience         14720 non-null int64\n",
      "Height (inches)    14720 non-null float64\n",
      "Name               14720 non-null object\n",
      "Player Id          14720 non-null object\n",
      "Position           14720 non-null int64\n",
      "Weight (lbs)       14720 non-null float64\n",
      "Years Played       14720 non-null object\n",
      "dtypes: float64(2), int64(2), object(8)\n",
      "memory usage: 2.1+ MB\n",
      "None \n",
      "\n",
      "\n"
     ]
    },
    {
     "data": {
      "image/png": "[encoded data removed]",
      "text/plain": [
       "<matplotlib.figure.Figure at 0x1a154e7350>"
      ]
     },
     "metadata": {},
     "output_type": "display_data"
    }
   ],
   "source": [
    "#################\n",
    "##  TODO: Need to find way to correlate discrete data objects\n",
    "#################\n",
    "print \"Correlations:\\n \",Basic_Stats.corr(method='pearson'), \"\\n\\n\"\n",
    "\n",
    "#Box plot of Weight ranges for each position\n",
    "sns.set(rc={'figure.figsize':(11.7,8.27)})\n",
    "sns.boxplot(x=\"Position\", y=\"Weight (lbs)\", data=Basic_Stats);\n",
    "\n",
    "print Basic_Stats.info(), \"\\n\\n\""
   ]
  },
  {
   "cell_type": "code",
   "execution_count": null,
   "metadata": {
    "collapsed": true
   },
   "outputs": [],
   "source": []
  }
 ],
 "metadata": {
  "kernelspec": {
   "display_name": "Python 2",
   "language": "python",
   "name": "python2"
  },
  "language_info": {
   "codemirror_mode": {
    "name": "ipython",
    "version": 2
   },
   "file_extension": ".py",
   "mimetype": "text/x-python",
   "name": "python",
   "nbconvert_exporter": "python",
   "pygments_lexer": "ipython2",
   "version": "2.7.14"
  }
 },
 "nbformat": 4,
 "nbformat_minor": 2
}
