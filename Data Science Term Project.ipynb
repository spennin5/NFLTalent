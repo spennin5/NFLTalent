{
 "cells": [
  {
   "cell_type": "code",
   "execution_count": 29,
   "metadata": {},
   "outputs": [
    {
     "name": "stdout",
     "output_type": "stream",
     "text": [
      "<class 'pandas.core.frame.DataFrame'>\n",
      "RangeIndex: 17172 entries, 0 to 17171\n",
      "Data columns (total 16 columns):\n",
      "Age                     13504 non-null float64\n",
      "Birth Place             14794 non-null object\n",
      "Birthday                16835 non-null object\n",
      "College                 17133 non-null object\n",
      "Current Status          17172 non-null object\n",
      "Current Team            17172 non-null object\n",
      "Experience              17133 non-null object\n",
      "Height (inches)         17026 non-null float64\n",
      "High School             2514 non-null object\n",
      "High School Location    2510 non-null object\n",
      "Name                    17172 non-null object\n",
      "Number                  1708 non-null float64\n",
      "Player Id               17172 non-null object\n",
      "Position                17172 non-null object\n",
      "Weight (lbs)            17121 non-null float64\n",
      "Years Played            17172 non-null object\n",
      "dtypes: float64(4), object(12)\n",
      "memory usage: 2.1+ MB\n",
      "None\n",
      "<class 'pandas.core.frame.DataFrame'>\n",
      "Int64Index: 14720 entries, 0 to 17171\n",
      "Data columns (total 12 columns):\n",
      "Birth Place        14720 non-null object\n",
      "Birthday           14720 non-null object\n",
      "College            14720 non-null object\n",
      "Current Status     14720 non-null object\n",
      "Current Team       14720 non-null object\n",
      "Experience         14720 non-null object\n",
      "Height (inches)    14720 non-null float64\n",
      "Name               14720 non-null object\n",
      "Player Id          14720 non-null object\n",
      "Position           14720 non-null object\n",
      "Weight (lbs)       14720 non-null float64\n",
      "Years Played       14720 non-null object\n",
      "dtypes: float64(2), object(10)\n",
      "memory usage: 1.5+ MB\n",
      "None\n"
     ]
    }
   ],
   "source": [
    "\n",
    "%matplotlib inline\n",
    "import matplotlib.pyplot as mp\n",
    "import urllib2\n",
    "import urllib\n",
    "import requests\n",
    "from bs4 import BeautifulSoup\n",
    "import pandas as pd\n",
    "import numpy as np\n",
    "import json\n",
    "import re\n",
    "\n",
    "#All active players don't have \"years played\" information -> set values to \"Active\"\n",
    "#All retired players don't have \"current team\" information -> set values to \"Retired\"\n",
    "#All retired players don't have \"Position\" information -> set values to \"TBD\"\n",
    "    #These positions will have to be updated based on crossreferencing with the other .csv statistics files\n",
    "Basic_Stats = pd.read_csv(\"./Basic_Stats.csv\");\n",
    "Basic_Stats = pd.DataFrame(data = Basic_Stats)\n",
    "Basic_Stats['Current Team'].replace(np.nan,'Retired', inplace=True);\n",
    "Basic_Stats['Years Played'].replace(np.nan,'Active', inplace=True);\n",
    "Basic_Stats['Position'].replace(np.nan,'TBD', inplace=True);\n",
    "print Basic_Stats.info()\n",
    "Basic_Stats = Basic_Stats.drop(['Number'], axis=1)\n",
    "Basic_Stats = Basic_Stats.drop(['High School'], axis=1)\n",
    "Basic_Stats = Basic_Stats.drop(['High School Location'], axis=1)\n",
    "Basic_Stats = Basic_Stats.drop(['Age'], axis=1)\n",
    "Basic_Stats = Basic_Stats.dropna(axis = 0, how=\"any\")\n",
    "#print Basic_Stats['Current Team']\n",
    "print Basic_Stats.info()\n",
    "  "
   ]
  },
  {
   "cell_type": "code",
   "execution_count": null,
   "metadata": {
    "collapsed": true
   },
   "outputs": [],
   "source": []
  },
  {
   "cell_type": "code",
   "execution_count": null,
   "metadata": {
    "collapsed": true
   },
   "outputs": [],
   "source": []
  }
 ],
 "metadata": {
  "kernelspec": {
   "display_name": "Python 2",
   "language": "python",
   "name": "python2"
  },
  "language_info": {
   "codemirror_mode": {
    "name": "ipython",
    "version": 2
   },
   "file_extension": ".py",
   "mimetype": "text/x-python",
   "name": "python",
   "nbconvert_exporter": "python",
   "pygments_lexer": "ipython2",
   "version": "2.7.14"
  }
 },
 "nbformat": 4,
 "nbformat_minor": 2
}
